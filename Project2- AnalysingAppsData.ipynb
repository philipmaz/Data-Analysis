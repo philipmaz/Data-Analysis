{
 "cells": [
  {
   "cell_type": "markdown",
   "metadata": {},
   "source": [
    "### Mobile applications analysis"
   ]
  },
  {
   "cell_type": "markdown",
   "metadata": {},
   "source": [
    "*this project is about mobile apps analysis*\n",
    "\n",
    "THE GOAL : \n",
    "\n",
    "1. Determine apps that are likely to attract more users thus help   developers understand users needs. \n",
    "2. Remove innacurate data. \n",
    "3. Remove duplicate app entries. \n",
    "4. Remove non-English applications"
   ]
  },
  {
   "cell_type": "code",
   "execution_count": 12,
   "metadata": {},
   "outputs": [],
   "source": [
    "def explore_data(dataset, start, end):\n",
    "    dataset_slice = dataset[start:end]    \n",
    "    for row in dataset_slice:\n",
    "        print(row)\n",
    "        print('\\n') # adds a new (empty) line after each row\n",
    "\n",
    "    \n",
    "    print('Number of rows:', len(dataset))\n",
    "    print('Number of columns:', len(dataset[0]))"
   ]
  },
  {
   "cell_type": "code",
   "execution_count": 13,
   "metadata": {},
   "outputs": [],
   "source": [
    "from csv import reader\n",
    "open_file1=open('AppleStore.csv',encoding=\"utf8\")\n",
    "open_file2=open('googleplaystore.csv',encoding=\"utf8\")\n",
    "apple=list(reader(open_file1))\n",
    "google=list(reader(open_file2))"
   ]
  },
  {
   "cell_type": "code",
   "execution_count": 15,
   "metadata": {},
   "outputs": [
    {
     "name": "stdout",
     "output_type": "stream",
     "text": [
      "['284882215', 'Facebook', '389879808', 'USD', '0.0', '2974676', '212', '3.5', '3.5', '95.0', '4+', 'Social Networking', '37', '1', '29', '1']\n",
      "\n",
      "\n",
      "['389801252', 'Instagram', '113954816', 'USD', '0.0', '2161558', '1289', '4.5', '4.0', '10.23', '12+', 'Photo & Video', '37', '0', '29', '1']\n",
      "\n",
      "\n",
      "['529479190', 'Clash of Clans', '116476928', 'USD', '0.0', '2130805', '579', '4.5', '4.5', '9.24.12', '9+', 'Games', '38', '5', '18', '1']\n",
      "\n",
      "\n",
      "['420009108', 'Temple Run', '65921024', 'USD', '0.0', '1724546', '3842', '4.5', '4.0', '1.6.2', '9+', 'Games', '40', '5', '1', '1']\n",
      "\n",
      "\n",
      "Number of rows: 7198\n",
      "Number of columns: 16\n"
     ]
    }
   ],
   "source": [
    "explore_data(apple,1,5)"
   ]
  },
  {
   "cell_type": "code",
   "execution_count": 16,
   "metadata": {},
   "outputs": [
    {
     "name": "stdout",
     "output_type": "stream",
     "text": [
      "['Photo Editor & Candy Camera & Grid & ScrapBook', 'ART_AND_DESIGN', '4.1', '159', '19M', '10,000+', 'Free', '0', 'Everyone', 'Art & Design', 'January 7, 2018', '1.0.0', '4.0.3 and up']\n",
      "\n",
      "\n",
      "['Coloring book moana', 'ART_AND_DESIGN', '3.9', '967', '14M', '500,000+', 'Free', '0', 'Everyone', 'Art & Design;Pretend Play', 'January 15, 2018', '2.0.0', '4.0.3 and up']\n",
      "\n",
      "\n",
      "['U Launcher Lite – FREE Live Cool Themes, Hide Apps', 'ART_AND_DESIGN', '4.7', '87510', '8.7M', '5,000,000+', 'Free', '0', 'Everyone', 'Art & Design', 'August 1, 2018', '1.2.4', '4.0.3 and up']\n",
      "\n",
      "\n",
      "['Sketch - Draw & Paint', 'ART_AND_DESIGN', '4.5', '215644', '25M', '50,000,000+', 'Free', '0', 'Teen', 'Art & Design', 'June 8, 2018', 'Varies with device', '4.2 and up']\n",
      "\n",
      "\n",
      "Number of rows: 10842\n",
      "Number of columns: 13\n"
     ]
    }
   ],
   "source": [
    "explore_data(google,1,5)"
   ]
  },
  {
   "cell_type": "code",
   "execution_count": 18,
   "metadata": {},
   "outputs": [
    {
     "data": {
      "text/plain": [
       "{'Category': 1,\n",
       " 'ART_AND_DESIGN': 65,\n",
       " 'AUTO_AND_VEHICLES': 85,\n",
       " 'BEAUTY': 53,\n",
       " 'BOOKS_AND_REFERENCE': 231,\n",
       " 'BUSINESS': 460,\n",
       " 'COMICS': 60,\n",
       " 'COMMUNICATION': 387,\n",
       " 'DATING': 234,\n",
       " 'EDUCATION': 156,\n",
       " 'ENTERTAINMENT': 149,\n",
       " 'EVENTS': 64,\n",
       " 'FINANCE': 366,\n",
       " 'FOOD_AND_DRINK': 127,\n",
       " 'HEALTH_AND_FITNESS': 341,\n",
       " 'HOUSE_AND_HOME': 88,\n",
       " 'LIBRARIES_AND_DEMO': 85,\n",
       " 'LIFESTYLE': 382,\n",
       " 'GAME': 1144,\n",
       " 'FAMILY': 1972,\n",
       " 'MEDICAL': 463,\n",
       " 'SOCIAL': 295,\n",
       " 'SHOPPING': 260,\n",
       " 'PHOTOGRAPHY': 335,\n",
       " 'SPORTS': 384,\n",
       " 'TRAVEL_AND_LOCAL': 258,\n",
       " 'TOOLS': 843,\n",
       " 'PERSONALIZATION': 392,\n",
       " 'PRODUCTIVITY': 424,\n",
       " 'PARENTING': 60,\n",
       " 'WEATHER': 82,\n",
       " 'VIDEO_PLAYERS': 175,\n",
       " 'NEWS_AND_MAGAZINES': 283,\n",
       " 'MAPS_AND_NAVIGATION': 137,\n",
       " '1.9': 1}"
      ]
     },
     "execution_count": 18,
     "metadata": {},
     "output_type": "execute_result"
    }
   ],
   "source": [
    "freq_tab={}\n",
    "for app in google:\n",
    "    cat=app[1]\n",
    "    if cat not in freq_tab:\n",
    "        freq_tab[cat]=1\n",
    "    else:\n",
    "        freq_tab[cat]+=1\n",
    "freq_tab\n"
   ]
  },
  {
   "cell_type": "code",
   "execution_count": 22,
   "metadata": {
    "scrolled": true
   },
   "outputs": [
    {
     "data": {
      "text/plain": [
       "{'ART_AND_DESIGN': 65,\n",
       " 'AUTO_AND_VEHICLES': 85,\n",
       " 'BEAUTY': 53,\n",
       " 'BOOKS_AND_REFERENCE': 231,\n",
       " 'BUSINESS': 460,\n",
       " 'COMICS': 60,\n",
       " 'COMMUNICATION': 387,\n",
       " 'DATING': 234,\n",
       " 'EDUCATION': 156,\n",
       " 'ENTERTAINMENT': 149,\n",
       " 'EVENTS': 64,\n",
       " 'FINANCE': 366,\n",
       " 'FOOD_AND_DRINK': 127,\n",
       " 'HEALTH_AND_FITNESS': 341,\n",
       " 'HOUSE_AND_HOME': 88,\n",
       " 'LIBRARIES_AND_DEMO': 85,\n",
       " 'LIFESTYLE': 382,\n",
       " 'GAME': 1144,\n",
       " 'FAMILY': 1972,\n",
       " 'MEDICAL': 463,\n",
       " 'SOCIAL': 295,\n",
       " 'SHOPPING': 260,\n",
       " 'PHOTOGRAPHY': 335,\n",
       " 'SPORTS': 384,\n",
       " 'TRAVEL_AND_LOCAL': 258,\n",
       " 'TOOLS': 843,\n",
       " 'PERSONALIZATION': 392,\n",
       " 'PRODUCTIVITY': 424,\n",
       " 'PARENTING': 60,\n",
       " 'WEATHER': 82,\n",
       " 'VIDEO_PLAYERS': 175,\n",
       " 'NEWS_AND_MAGAZINES': 283,\n",
       " 'MAPS_AND_NAVIGATION': 137}"
      ]
     },
     "execution_count": 22,
     "metadata": {},
     "output_type": "execute_result"
    }
   ],
   "source": [
    "del freq_tab['Category']\n",
    "freq_tab"
   ]
  },
  {
   "cell_type": "code",
   "execution_count": 25,
   "metadata": {},
   "outputs": [
    {
     "data": {
      "text/plain": [
       "['ART_AND_DESIGN',\n",
       " 'AUTO_AND_VEHICLES',\n",
       " 'BEAUTY',\n",
       " 'BOOKS_AND_REFERENCE',\n",
       " 'BUSINESS',\n",
       " 'COMICS',\n",
       " 'COMMUNICATION',\n",
       " 'DATING',\n",
       " 'EDUCATION',\n",
       " 'ENTERTAINMENT',\n",
       " 'EVENTS',\n",
       " 'FINANCE',\n",
       " 'FOOD_AND_DRINK',\n",
       " 'HEALTH_AND_FITNESS',\n",
       " 'HOUSE_AND_HOME',\n",
       " 'LIBRARIES_AND_DEMO',\n",
       " 'LIFESTYLE',\n",
       " 'GAME',\n",
       " 'FAMILY',\n",
       " 'MEDICAL',\n",
       " 'SOCIAL',\n",
       " 'SHOPPING',\n",
       " 'PHOTOGRAPHY',\n",
       " 'SPORTS',\n",
       " 'TRAVEL_AND_LOCAL',\n",
       " 'TOOLS',\n",
       " 'PERSONALIZATION',\n",
       " 'PRODUCTIVITY',\n",
       " 'PARENTING',\n",
       " 'WEATHER',\n",
       " 'VIDEO_PLAYERS',\n",
       " 'NEWS_AND_MAGAZINES',\n",
       " 'MAPS_AND_NAVIGATION']"
      ]
     },
     "execution_count": 25,
     "metadata": {},
     "output_type": "execute_result"
    }
   ],
   "source": [
    "name_list=list(freq_tab.keys())\n",
    "name_list"
   ]
  },
  {
   "cell_type": "code",
   "execution_count": 10,
   "metadata": {},
   "outputs": [
    {
     "name": "stdout",
     "output_type": "stream",
     "text": [
      "['id', 'track_name', 'size_bytes', 'currency', 'price', 'rating_count_tot', 'rating_count_ver', 'user_rating', 'user_rating_ver', 'ver', 'cont_rating', 'prime_genre', 'sup_devices.num', 'ipadSc_urls.num', 'lang.num', 'vpp_lic']\n",
      "\n",
      "\n"
     ]
    }
   ],
   "source": [
    "explore_data(apple,0,1,False)"
   ]
  },
  {
   "cell_type": "code",
   "execution_count": 11,
   "metadata": {},
   "outputs": [
    {
     "name": "stdout",
     "output_type": "stream",
     "text": [
      "['App', 'Category', 'Rating', 'Reviews', 'Size', 'Installs', 'Type', 'Price', 'Content Rating', 'Genres', 'Last Updated', 'Current Ver', 'Android Ver']\n",
      "\n",
      "\n"
     ]
    }
   ],
   "source": [
    "explore_data(google,0,1,False)"
   ]
  },
  {
   "cell_type": "code",
   "execution_count": 12,
   "metadata": {},
   "outputs": [
    {
     "data": {
      "text/plain": [
       "['Life Made WI-Fi Touchscreen Photo Frame',\n",
       " '1.9',\n",
       " '19',\n",
       " '3.0M',\n",
       " '1,000+',\n",
       " 'Free',\n",
       " '0',\n",
       " 'Everyone',\n",
       " '',\n",
       " 'February 11, 2018',\n",
       " '1.0.19',\n",
       " '4.0 and up']"
      ]
     },
     "execution_count": 12,
     "metadata": {},
     "output_type": "execute_result"
    }
   ],
   "source": [
    "google[10473]"
   ]
  },
  {
   "cell_type": "markdown",
   "metadata": {},
   "source": [
    "* DATA CLEARING NOW:"
   ]
  },
  {
   "cell_type": "code",
   "execution_count": 13,
   "metadata": {},
   "outputs": [],
   "source": [
    "#remove given errors\n",
    "del google[10473]"
   ]
  },
  {
   "cell_type": "code",
   "execution_count": 14,
   "metadata": {},
   "outputs": [
    {
     "name": "stdout",
     "output_type": "stream",
     "text": [
      "['Instagram', 'SOCIAL', '4.5', '66577313', 'Varies with device', '1,000,000,000+', 'Free', '0', 'Teen', 'Social', 'July 31, 2018', 'Varies with device', 'Varies with device']\n",
      "['Instagram', 'SOCIAL', '4.5', '66577446', 'Varies with device', '1,000,000,000+', 'Free', '0', 'Teen', 'Social', 'July 31, 2018', 'Varies with device', 'Varies with device']\n",
      "['Instagram', 'SOCIAL', '4.5', '66577313', 'Varies with device', '1,000,000,000+', 'Free', '0', 'Teen', 'Social', 'July 31, 2018', 'Varies with device', 'Varies with device']\n",
      "['Instagram', 'SOCIAL', '4.5', '66509917', 'Varies with device', '1,000,000,000+', 'Free', '0', 'Teen', 'Social', 'July 31, 2018', 'Varies with device', 'Varies with device']\n"
     ]
    }
   ],
   "source": [
    "#find given duplicates\n",
    "for app in google:\n",
    "    name=app[0]\n",
    "    if name==\"Instagram\":\n",
    "        print(app)"
   ]
  },
  {
   "cell_type": "code",
   "execution_count": 53,
   "metadata": {},
   "outputs": [
    {
     "name": "stdout",
     "output_type": "stream",
     "text": [
      "Number of duplicates: 1181\n",
      "\n",
      "\n",
      "Examples of duplicate apps: ['Quick PDF Scanner + OCR FREE', 'Box', 'Google My Business', 'ZOOM Cloud Meetings', 'join.me - Simple Meetings', 'Box', 'Zenefits', 'Google Ads', 'Google My Business', 'Slack', 'FreshBooks Classic', 'Insightly CRM', 'QuickBooks Accounting: Invoicing & Expenses', 'HipChat - Chat Built for Teams', 'Xero Accounting Software']\n"
     ]
    }
   ],
   "source": [
    "unique_values=[]\n",
    "duplicate_values=[]\n",
    "for app in google:\n",
    "    name=app[0]\n",
    "    if name in unique_values:\n",
    "        duplicate_values.append(name)\n",
    "    else:\n",
    "        unique_values.append(name)\n",
    "\n",
    "print('Number of duplicates:',len(duplicate_values))\n",
    "print('\\n')\n",
    "print('Examples of duplicate apps:', duplicate_values[:15])"
   ]
  },
  {
   "cell_type": "markdown",
   "metadata": {},
   "source": [
    "* ONLY MOST RECENT DATA OF DUPLICATES WOULD BE LEFT \n",
    "(criterion is number of views / review amount)"
   ]
  },
  {
   "cell_type": "code",
   "execution_count": 35,
   "metadata": {},
   "outputs": [
    {
     "data": {
      "text/plain": [
       "9660"
      ]
     },
     "execution_count": 35,
     "metadata": {},
     "output_type": "execute_result"
    }
   ],
   "source": [
    "reviews_max={}\n",
    "for app in google[1:]:\n",
    "    name=app[0]\n",
    "    n_reviews=app[3]\n",
    "    if name in reviews_max and reviews_max[name]<n_reviews:\n",
    "        reviews_max[name]=n_reviews\n",
    "    elif name not in reviews_max:\n",
    "        reviews_max[name]=n_reviews\n",
    "\n",
    "len(reviews_max)      #deleting duplicates based on n of reviews, iterates over the rows and picks the one \n",
    "                      #with higher amount of views out of existing duplicates"
   ]
  },
  {
   "cell_type": "code",
   "execution_count": 44,
   "metadata": {},
   "outputs": [
    {
     "name": "stdout",
     "output_type": "stream",
     "text": [
      "['Photo Editor & Candy Camera & Grid & ScrapBook', 'ART_AND_DESIGN', '4.1', '159', '19M', '10,000+', 'Free', '0', 'Everyone', 'Art & Design', 'January 7, 2018', '1.0.0', '4.0.3 and up']\n",
      "\n",
      "\n",
      "['Coloring book moana', 'ART_AND_DESIGN', '3.9', '967', '14M', '500,000+', 'Free', '0', 'Everyone', 'Art & Design;Pretend Play', 'January 15, 2018', '2.0.0', '4.0.3 and up']\n",
      "\n",
      "\n",
      "['U Launcher Lite – FREE Live Cool Themes, Hide Apps', 'ART_AND_DESIGN', '4.7', '87510', '8.7M', '5,000,000+', 'Free', '0', 'Everyone', 'Art & Design', 'August 1, 2018', '1.2.4', '4.0.3 and up']\n",
      "\n",
      "\n",
      "['Sketch - Draw & Paint', 'ART_AND_DESIGN', '4.5', '215644', '25M', '50,000,000+', 'Free', '0', 'Teen', 'Art & Design', 'June 8, 2018', 'Varies with device', '4.2 and up']\n",
      "\n",
      "\n",
      "['Pixel Draw - Number Art Coloring Book', 'ART_AND_DESIGN', '4.3', '967', '2.8M', '100,000+', 'Free', '0', 'Everyone', 'Art & Design;Creativity', 'June 20, 2018', '1.1', '4.4 and up']\n",
      "\n",
      "\n",
      "Number of rows: 9660\n",
      "Number of columns: 13\n"
     ]
    }
   ],
   "source": [
    "google_clean=[]\n",
    "already_added=[]\n",
    "for app in google[1:]:\n",
    "    name=app[0]\n",
    "    if name not in already_added:\n",
    "        google_clean.append(app)\n",
    "        already_added.append(name)\n",
    "\n",
    "explore_data(google_clean,0,5)\n",
    "  "
   ]
  },
  {
   "cell_type": "markdown",
   "metadata": {},
   "source": [
    "* CHECKING THE RESULT (IF THERE IS NO DUPLICATES AND APPLICATION REVIEWS ARE MOST UP TO DATE)"
   ]
  },
  {
   "cell_type": "code",
   "execution_count": 54,
   "metadata": {
    "scrolled": true
   },
   "outputs": [
    {
     "name": "stdout",
     "output_type": "stream",
     "text": [
      "['Instagram', 'SOCIAL', '4.5', '66577313', 'Varies with device', '1,000,000,000+', 'Free', '0', 'Teen', 'Social', 'July 31, 2018', 'Varies with device', 'Varies with device']\n"
     ]
    }
   ],
   "source": [
    "for app in google_clean:\n",
    "    name=app[0]\n",
    "    if name==\"Instagram\":\n",
    "        print(app)"
   ]
  },
  {
   "cell_type": "code",
   "execution_count": 56,
   "metadata": {},
   "outputs": [],
   "source": [
    "def english_check(string):\n",
    "    for i in string:\n",
    "        if ord(i)>127:\n",
    "            return False\n",
    "    return True"
   ]
  },
  {
   "cell_type": "markdown",
   "metadata": {},
   "source": [
    "* How many rows/apps remained after removing non-english ones:"
   ]
  },
  {
   "cell_type": "code",
   "execution_count": 58,
   "metadata": {},
   "outputs": [
    {
     "name": "stdout",
     "output_type": "stream",
     "text": [
      "['Coloring book moana', 'ART_AND_DESIGN', '3.9', '967', '14M', '500,000+', 'Free', '0', 'Everyone', 'Art & Design;Pretend Play', 'January 15, 2018', '2.0.0', '4.0.3 and up']\n",
      "\n",
      "\n",
      "['Sketch - Draw & Paint', 'ART_AND_DESIGN', '4.5', '215644', '25M', '50,000,000+', 'Free', '0', 'Teen', 'Art & Design', 'June 8, 2018', 'Varies with device', '4.2 and up']\n",
      "\n",
      "\n",
      "['Pixel Draw - Number Art Coloring Book', 'ART_AND_DESIGN', '4.3', '967', '2.8M', '100,000+', 'Free', '0', 'Everyone', 'Art & Design;Creativity', 'June 20, 2018', '1.1', '4.4 and up']\n",
      "\n",
      "\n",
      "['Paper flowers instructions', 'ART_AND_DESIGN', '4.4', '167', '5.6M', '50,000+', 'Free', '0', 'Everyone', 'Art & Design', 'March 26, 2017', '1.0', '2.3 and up']\n",
      "\n",
      "\n",
      "Number of rows: 9118\n",
      "Number of columns: 13\n"
     ]
    }
   ],
   "source": [
    "google_clean_en=[]          #remaining apps that titles are in English\n",
    "for app in google_clean:\n",
    "    name=str(app[0])\n",
    "    if english_check(name):\n",
    "        google_clean_en.append(app)\n",
    "        \n",
    "explore_data(google_clean_en,1,5)"
   ]
  },
  {
   "cell_type": "markdown",
   "metadata": {},
   "source": [
    "* Removing paid apps as the company revenues are based on advertisments therefore views amount are more important than paid apps"
   ]
  },
  {
   "cell_type": "code",
   "execution_count": 61,
   "metadata": {},
   "outputs": [
    {
     "name": "stdout",
     "output_type": "stream",
     "text": [
      "['Photo Editor & Candy Camera & Grid & ScrapBook', 'ART_AND_DESIGN', '4.1', '159', '19M', '10,000+', 'Free', '0', 'Everyone', 'Art & Design', 'January 7, 2018', '1.0.0', '4.0.3 and up']\n",
      "\n",
      "\n",
      "['Coloring book moana', 'ART_AND_DESIGN', '3.9', '967', '14M', '500,000+', 'Free', '0', 'Everyone', 'Art & Design;Pretend Play', 'January 15, 2018', '2.0.0', '4.0.3 and up']\n",
      "\n",
      "\n",
      "['Sketch - Draw & Paint', 'ART_AND_DESIGN', '4.5', '215644', '25M', '50,000,000+', 'Free', '0', 'Teen', 'Art & Design', 'June 8, 2018', 'Varies with device', '4.2 and up']\n",
      "\n",
      "\n",
      "Number of rows: 8405\n",
      "Number of columns: 13\n"
     ]
    }
   ],
   "source": [
    "google_clean_en_free=[]\n",
    "for app in google_clean_en:\n",
    "    price=app[6]\n",
    "    if price=='Free':\n",
    "        google_clean_en_free.append(app)\n",
    "\n",
    "explore_data(google_clean_en_free,0,3)"
   ]
  },
  {
   "cell_type": "markdown",
   "metadata": {},
   "source": [
    "* defining function that calculates percentage values of each genre"
   ]
  },
  {
   "cell_type": "code",
   "execution_count": 62,
   "metadata": {},
   "outputs": [
    {
     "data": {
      "text/plain": [
       "{'ART_AND_DESIGN': 0.7019631171921475,\n",
       " 'AUTO_AND_VEHICLES': 0.9399167162403332,\n",
       " 'BEAUTY': 0.6305770374776918,\n",
       " 'BOOKS_AND_REFERENCE': 2.1891731112433073,\n",
       " 'BUSINESS': 4.711481261154074,\n",
       " 'COMICS': 0.5710886377156454,\n",
       " 'COMMUNICATION': 3.224271267102915,\n",
       " 'DATING': 1.832242712671029,\n",
       " 'EDUCATION': 1.2730517549077929,\n",
       " 'ENTERTAINMENT': 1.106484235574063,\n",
       " 'EVENTS': 0.7138607971445567,\n",
       " 'FINANCE': 3.7358715050565143,\n",
       " 'FOOD_AND_DRINK': 1.2016656751933374,\n",
       " 'HEALTH_AND_FITNESS': 3.1290898274836407,\n",
       " 'HOUSE_AND_HOME': 0.8209399167162403,\n",
       " 'LIBRARIES_AND_DEMO': 0.9042236763831053,\n",
       " 'LIFESTYLE': 3.8905413444378345,\n",
       " 'GAME': 9.744199881023201,\n",
       " 'FAMILY': 18.37001784651993,\n",
       " 'MEDICAL': 3.6287923854848305,\n",
       " 'SOCIAL': 2.665080309339679,\n",
       " 'SHOPPING': 2.2486615110053543,\n",
       " 'PHOTOGRAPHY': 3.010113027959548,\n",
       " 'SPORTS': 3.2599643069601427,\n",
       " 'TRAVEL_AND_LOCAL': 2.3081499107674004,\n",
       " 'TOOLS': 8.554431885782272,\n",
       " 'PERSONALIZATION': 3.3075550267697795,\n",
       " 'PRODUCTIVITY': 3.9738251041046992,\n",
       " 'PARENTING': 0.6543723973825104,\n",
       " 'WEATHER': 0.7971445568114218,\n",
       " 'VIDEO_PLAYERS': 1.7489589530041643,\n",
       " 'NEWS_AND_MAGAZINES': 2.795954788816181,\n",
       " 'MAPS_AND_NAVIGATION': 1.3563355145746578}"
      ]
     },
     "execution_count": 62,
     "metadata": {},
     "output_type": "execute_result"
    }
   ],
   "source": [
    "def frequency(data_set,index):\n",
    "    frequency_table={}\n",
    "    total=0\n",
    "    for app in data_set:\n",
    "        value=app[index]\n",
    "        total+=1\n",
    "        if value in frequency_table:\n",
    "            frequency_table[value]+=1\n",
    "        else:\n",
    "            frequency_table[value]=1\n",
    "\n",
    "    table_percentages = {}\n",
    "    for key in frequency_table:\n",
    "        percentage = (frequency_table[key] / total) * 100\n",
    "        table_percentages[key] = percentage \n",
    "    \n",
    "    return table_percentages\n",
    "\n",
    "\n",
    "frequency(google_clean_en_free,1)\n"
   ]
  },
  {
   "cell_type": "markdown",
   "metadata": {},
   "source": [
    "* SORTED FREQUENCY TABLE FOR GOOGLE APPS:"
   ]
  },
  {
   "cell_type": "code",
   "execution_count": null,
   "metadata": {},
   "outputs": [],
   "source": []
  },
  {
   "cell_type": "code",
   "execution_count": 76,
   "metadata": {},
   "outputs": [
    {
     "name": "stdout",
     "output_type": "stream",
     "text": [
      "FAMILY : 18.37001784651993\n",
      "GAME : 9.744199881023201\n",
      "TOOLS : 8.554431885782272\n",
      "BUSINESS : 4.711481261154074\n",
      "PRODUCTIVITY : 3.9738251041046992\n",
      "LIFESTYLE : 3.8905413444378345\n",
      "FINANCE : 3.7358715050565143\n",
      "MEDICAL : 3.6287923854848305\n",
      "PERSONALIZATION : 3.3075550267697795\n",
      "SPORTS : 3.2599643069601427\n",
      "COMMUNICATION : 3.224271267102915\n",
      "HEALTH_AND_FITNESS : 3.1290898274836407\n",
      "PHOTOGRAPHY : 3.010113027959548\n",
      "NEWS_AND_MAGAZINES : 2.795954788816181\n",
      "SOCIAL : 2.665080309339679\n",
      "TRAVEL_AND_LOCAL : 2.3081499107674004\n",
      "SHOPPING : 2.2486615110053543\n",
      "BOOKS_AND_REFERENCE : 2.1891731112433073\n",
      "DATING : 1.832242712671029\n",
      "VIDEO_PLAYERS : 1.7489589530041643\n",
      "MAPS_AND_NAVIGATION : 1.3563355145746578\n",
      "EDUCATION : 1.2730517549077929\n",
      "FOOD_AND_DRINK : 1.2016656751933374\n",
      "ENTERTAINMENT : 1.106484235574063\n",
      "AUTO_AND_VEHICLES : 0.9399167162403332\n",
      "LIBRARIES_AND_DEMO : 0.9042236763831053\n",
      "HOUSE_AND_HOME : 0.8209399167162403\n",
      "WEATHER : 0.7971445568114218\n",
      "EVENTS : 0.7138607971445567\n",
      "ART_AND_DESIGN : 0.7019631171921475\n",
      "PARENTING : 0.6543723973825104\n",
      "BEAUTY : 0.6305770374776918\n",
      "COMICS : 0.5710886377156454\n"
     ]
    }
   ],
   "source": [
    "def display_table(dataset, index):\n",
    "    table = frequency(dataset, index)\n",
    "    table_display = []\n",
    "    for key in table:\n",
    "        key_tuple = (table[key], key)\n",
    "        table_display.append(key_tuple)\n",
    "        \n",
    "    table_sorted = sorted(table_display, reverse = True)\n",
    "    for entry in table_sorted:\n",
    "        print(entry[1], ':', entry[0])\n",
    "    \n",
    "    \n",
    "genres_google=display_table(google_clean_en_free,1)\n"
   ]
  },
  {
   "cell_type": "markdown",
   "metadata": {},
   "source": [
    "* SORTED FREQUENCY TABLE FOR APPLE APPS:"
   ]
  },
  {
   "cell_type": "code",
   "execution_count": 25,
   "metadata": {
    "scrolled": true
   },
   "outputs": [
    {
     "name": "stdout",
     "output_type": "stream",
     "text": [
      "Games : 53.65379272020006\n",
      "Entertainment : 7.4326201722700755\n",
      "Education : 6.293414837454849\n",
      "Photo & Video : 4.848569046957488\n",
      "Utilities : 3.445401500416782\n",
      "Health & Fitness : 2.5006946373992776\n",
      "Productivity : 2.4729091414281745\n",
      "Social Networking : 2.3200889135871074\n",
      "Lifestyle : 2.0005557099194218\n",
      "Music : 1.9171992220061127\n",
      "Shopping : 1.694915254237288\n",
      "Sports : 1.5837732703528755\n",
      "Book : 1.5559877743817727\n",
      "Finance : 1.4448457904973604\n",
      "Travel : 1.125312586829675\n",
      "News : 1.0419560989163656\n",
      "Weather : 1.0002778549597109\n",
      "Reference : 0.8891358710752986\n",
      "Food & Drink : 0.875243123089747\n",
      "Business : 0.7918866351764378\n",
      "Navigation : 0.6390664073353709\n",
      "Medical : 0.31953320366768545\n",
      "Catalogs : 0.13892747985551543\n",
      "prime_genre : 0.01389274798555154\n"
     ]
    }
   ],
   "source": [
    "genres_apple=display_table(apple,11)"
   ]
  },
  {
   "cell_type": "markdown",
   "metadata": {
    "collapsed": true
   },
   "source": [
    "After generating frequency table for the genre column it is possible to derermine the following:\n",
    "1. what is the most common genre\n",
    "2. patterns\n",
    "3. designation of most used apps\n",
    "\n",
    "The frequency tables analyzed on the previous screen showed that the App Store is dominated by apps designed for fun, while Google Play shows a more balanced landscape of both practical and fun apps. \n",
    "\n",
    "Now i'm going to get an idea about the kind of apps with the most users."
   ]
  },
  {
   "cell_type": "code",
   "execution_count": 26,
   "metadata": {},
   "outputs": [
    {
     "name": "stdout",
     "output_type": "stream",
     "text": [
      "prime_genre : 0.0\n",
      "Social Networking : 45228.07142857143\n",
      "Photo & Video : 14311.274285714286\n",
      "Games : 13688.452239192338\n",
      "Music : 28634.525179856115\n",
      "Reference : 22066.061538461538\n",
      "Health & Fitness : 9858.403314917126\n",
      "Weather : 21877.178082191782\n",
      "Utilities : 6836.25702811245\n",
      "Travel : 13957.134146341463\n",
      "Shopping : 18463.983739837397\n",
      "News : 12843.815789473685\n",
      "Navigation : 11601.744680851063\n",
      "Lifestyle : 6119.268965517242\n",
      "Entertainment : 7519.623134328358\n",
      "Food & Drink : 13720.828125\n",
      "Sports : 13904.95652173913\n",
      "Book : 5080.079646017699\n",
      "Finance : 10942.438095238096\n",
      "Education : 2234.2973568281936\n",
      "Productivity : 8006.346368715083\n",
      "Business : 4705.5344827586205\n",
      "Catalogs : 1575.0\n",
      "Medical : 568.0833333333334\n"
     ]
    }
   ],
   "source": [
    "genres_apple=frequency(apple,11)\n",
    "\n",
    "for genre in genres_apple:\n",
    "    total=0\n",
    "    len_genre=1\n",
    "    \n",
    "    for app in apple[1:]:\n",
    "        genre_app=app[11]\n",
    "        if genre_app==genre:\n",
    "            n_ratings=float(app[5])\n",
    "            total+=n_ratings\n",
    "            len_genre+=1\n",
    "    avg_n_ratings=total/len_genre\n",
    "    print(genre, ':',avg_n_ratings)\n"
   ]
  },
  {
   "cell_type": "markdown",
   "metadata": {
    "collapsed": true
   },
   "source": [
    "* On average social networking apps have the highest amount of user reviews\n",
    "\n",
    "Calculating the average number of installs per app genre for the Google Play data set:"
   ]
  },
  {
   "cell_type": "code",
   "execution_count": 85,
   "metadata": {},
   "outputs": [
    {
     "name": "stdout",
     "output_type": "stream",
     "text": [
      "ART_AND_DESIGN : 1852900.0\n",
      "AUTO_AND_VEHICLES : 645317.2278481013\n",
      "BEAUTY : 513151.88679245283\n",
      "BOOKS_AND_REFERENCE : 8504745.97826087\n",
      "BUSINESS : 1602958.308080808\n",
      "COMICS : 880440.625\n",
      "COMMUNICATION : 36106662.328413285\n",
      "DATING : 764959.4610389611\n",
      "EDUCATION : 3021495.3271028036\n",
      "ENTERTAINMENT : 22563010.752688173\n",
      "EVENTS : 232885.83333333334\n",
      "FINANCE : 1348224.9426751593\n",
      "FOOD_AND_DRINK : 1974937.1386138613\n",
      "HEALTH_AND_FITNESS : 4263642.1749049425\n",
      "HOUSE_AND_HOME : 1371193.6376811594\n",
      "LIBRARIES_AND_DEMO : 674917.2368421053\n",
      "LIFESTYLE : 1375297.3058103975\n",
      "GAME : 15723256.825396825\n",
      "FAMILY : 2582766.391839378\n",
      "MEDICAL : 119279.81639344263\n",
      "SOCIAL : 24441088.17857143\n",
      "SHOPPING : 7307823.2010582015\n",
      "PHOTOGRAPHY : 18063710.731225297\n",
      "SPORTS : 3647640.208029197\n",
      "TRAVEL_AND_LOCAL : 14487541.68041237\n",
      "TOOLS : 10974693.051460361\n",
      "PERSONALIZATION : 5027006.791366907\n",
      "PRODUCTIVITY : 16972497.946107786\n",
      "PARENTING : 544745.6363636364\n",
      "WEATHER : 5219216.7164179105\n",
      "VIDEO_PLAYERS : 25372256.598639455\n",
      "NEWS_AND_MAGAZINES : 10006311.10638298\n",
      "MAPS_AND_NAVIGATION : 4304432.280701755\n"
     ]
    }
   ],
   "source": [
    "categories_google=frequency(google_clean_en_free,1)\n",
    "\n",
    "for category in categories_google:\n",
    "    total=0\n",
    "    len_category=0\n",
    "    for app in google_clean_en_free:\n",
    "        category_app=app[1]\n",
    "        if category_app==category:\n",
    "            n_installs=app[5]\n",
    "            n_installs=n_installs.replace('+','')\n",
    "            n_installs=n_installs.replace(',','')\n",
    "            total+=float(n_installs)\n",
    "            len_category += 1\n",
    "    avg_n_installs=total/len_category\n",
    "    print(category,':',avg_n_installs)"
   ]
  },
  {
   "cell_type": "markdown",
   "metadata": {},
   "source": [
    "On average, communication apps have the most installs: 36,106,662. This number is heavily skewed up by a few apps that have over one billion installs (WhatsApp, Facebook Messenger, Skype, Google Chrome, Gmail, and Hangouts), and a few others with over 100 and 500 million installs:"
   ]
  },
  {
   "cell_type": "code",
   "execution_count": 31,
   "metadata": {},
   "outputs": [
    {
     "name": "stdout",
     "output_type": "stream",
     "text": [
      "WhatsApp Messenger : 1,000,000,000+\n",
      "imo beta free calls and text : 100,000,000+\n",
      "Android Messages : 100,000,000+\n",
      "Google Duo - High Quality Video Calls : 500,000,000+\n",
      "imo free video calls and chat : 500,000,000+\n",
      "Skype - free IM & video calls : 1,000,000,000+\n",
      "Who : 100,000,000+\n",
      "GO SMS Pro - Messenger, Free Themes, Emoji : 100,000,000+\n",
      "LINE: Free Calls & Messages : 500,000,000+\n",
      "Google Chrome: Fast & Secure : 1,000,000,000+\n",
      "Firefox Browser fast & private : 100,000,000+\n",
      "UC Browser - Fast Download Private & Secure : 500,000,000+\n",
      "Gmail : 1,000,000,000+\n",
      "Hangouts : 1,000,000,000+\n",
      "Messenger Lite: Free Calls & Messages : 100,000,000+\n",
      "Kik : 100,000,000+\n",
      "KakaoTalk: Free Calls & Text : 100,000,000+\n",
      "Opera Mini - fast web browser : 100,000,000+\n",
      "Opera Browser: Fast and Secure : 100,000,000+\n",
      "Telegram : 100,000,000+\n",
      "Truecaller: Caller ID, SMS spam blocking & Dialer : 100,000,000+\n",
      "UC Browser Mini -Tiny Fast Private & Secure : 100,000,000+\n",
      "Viber Messenger : 500,000,000+\n",
      "WeChat : 100,000,000+\n",
      "BBM - Free Calls & Messages : 100,000,000+\n"
     ]
    }
   ],
   "source": [
    "for app in google_clean_en_free:\n",
    "    if app[1] == 'COMMUNICATION' and (app[5] == '1,000,000,000+'\n",
    "                                      or app[5] == '500,000,000+'\n",
    "                                      or app[5] == '100,000,000+'):\n",
    "        \n",
    "        print(app[0], ':', app[5])"
   ]
  },
  {
   "cell_type": "markdown",
   "metadata": {},
   "source": [
    "If all the communication apps that have over 100 million installs are removed, the average installs amount would be reduced roughly:"
   ]
  },
  {
   "cell_type": "code",
   "execution_count": 32,
   "metadata": {},
   "outputs": [
    {
     "data": {
      "text/plain": [
       "3190672.7276422763"
      ]
     },
     "execution_count": 32,
     "metadata": {},
     "output_type": "execute_result"
    }
   ],
   "source": [
    "under_100_m=[]\n",
    "for app in google_clean_en_free:\n",
    "    n_installs=app[5]\n",
    "    n_installs=n_installs.replace(',','')\n",
    "    n_installs=n_installs.replace('+','')\n",
    "    if app[1]==\"COMMUNICATION\" and (float(n_installs)< 100000000):\n",
    "        under_100_m.append(float(n_installs))\n",
    "sum(under_100_m)/len(under_100_m)"
   ]
  },
  {
   "cell_type": "markdown",
   "metadata": {},
   "source": [
    "\n",
    "We see the same pattern for the video players category, which is the runner-up with 25,234,606 installs. The market is dominated by apps like Youtube, Google Play Movies & TV, or MX Player. The pattern is repeated for social apps (where we have giants like Facebook, Instagram, Google+, etc.), photography apps (Google Photos and other popular photo editors), or productivity apps (Microsoft Word, Dropbox, Google Calendar, Evernote, etc.).\n",
    "\n",
    "Again, the main concern is that these app genres might seem more popular than they really are. Moreover, these niches seem to be dominated by a few giants who are hard to compete against.\n",
    "\n",
    "The game genre seems pretty popular, but previously we found out this part of the market seems a bit saturated, so we'd like to come up with a different app recommendation if possible.\n",
    "\n",
    "The books and reference genre looks fairly popular as well, with an average number of installs of 8,504,745. It's interesting to explore more, since we found this genre has some potential to work well on the App Store, and our aim is to recommend an app genre that shows potential for being profitable on both the App Store and Google Play.\n",
    "\n",
    "Let's take a look at some of the apps from this genre and their number of installs:"
   ]
  },
  {
   "cell_type": "code",
   "execution_count": 43,
   "metadata": {},
   "outputs": [
    {
     "name": "stdout",
     "output_type": "stream",
     "text": [
      "E-Book Read - Read Book for free : 50,000+\n",
      "Download free book with green book : 100,000+\n",
      "Wikipedia : 10,000,000+\n",
      "Cool Reader : 10,000,000+\n",
      "Free Panda Radio Music : 100,000+\n",
      "Book store : 1,000,000+\n",
      "FBReader: Favorite Book Reader : 10,000,000+\n",
      "English Grammar Complete Handbook : 500,000+\n",
      "Free Books - Spirit Fanfiction and Stories : 1,000,000+\n",
      "Google Play Books : 1,000,000,000+\n",
      "AlReader -any text book reader : 5,000,000+\n",
      "Offline English Dictionary : 100,000+\n",
      "Offline: English to Tagalog Dictionary : 500,000+\n",
      "FamilySearch Tree : 1,000,000+\n",
      "Cloud of Books : 1,000,000+\n",
      "Recipes of Prophetic Medicine for free : 500,000+\n",
      "Anonymous caller detection : 10,000+\n",
      "Ebook Reader : 5,000,000+\n",
      "Litnet - E-books : 100,000+\n",
      "Read books online : 5,000,000+\n",
      "English to Urdu Dictionary : 500,000+\n",
      "eBoox: book reader fb2 epub zip : 1,000,000+\n",
      "English Persian Dictionary : 500,000+\n",
      "Flybook : 500,000+\n",
      "All Maths Formulas : 1,000,000+\n",
      "Ancestry : 5,000,000+\n",
      "HTC Help : 10,000,000+\n",
      "English translation from Bengali : 100,000+\n",
      "Pdf Book Download - Read Pdf Book : 100,000+\n",
      "Free Book Reader : 100,000+\n",
      "eBoox new: Reader for fb2 epub zip books : 50,000+\n",
      "Only 30 days in English, the guideline is guaranteed : 500,000+\n",
      "Moon+ Reader : 10,000,000+\n",
      "SH-02J Owner's Manual (Android 8.0) : 50,000+\n",
      "English-Myanmar Dictionary : 1,000,000+\n",
      "Golden Dictionary (EN-AR) : 1,000,000+\n",
      "All Language Translator Free : 1,000,000+\n",
      "Azpen eReader : 500,000+\n",
      "URBANO V 02 instruction manual : 100,000+\n",
      "Bible : 100,000,000+\n",
      "C Programs and Reference : 50,000+\n",
      "C Offline Tutorial : 1,000+\n",
      "C Programs Handbook : 50,000+\n",
      "Amazon Kindle : 100,000,000+\n",
      "Aab e Hayat Full Novel : 100,000+\n",
      "Aldiko Book Reader : 10,000,000+\n",
      "Google I/O 2018 : 500,000+\n",
      "R Language Reference Guide : 10,000+\n",
      "Learn R Programming Full : 5,000+\n",
      "R Programing Offline Tutorial : 1,000+\n",
      "Guide for R Programming : 5+\n",
      "Learn R Programming : 10+\n",
      "R Quick Reference Big Data : 1,000+\n",
      "V Made : 100,000+\n",
      "Dictionary - WordWeb : 5,000,000+\n",
      "Guide (for X-MEN) : 100,000+\n",
      "AC Air condition Troubleshoot,Repair,Maintenance : 5,000+\n",
      "AE Bulletins : 1,000+\n",
      "Ae Allah na Dai (Rasa) : 10,000+\n",
      "50000 Free eBooks & Free AudioBooks : 5,000,000+\n",
      "Ag PhD Field Guide : 10,000+\n",
      "Ag PhD Deficiencies : 10,000+\n",
      "Ag PhD Planting Population Calculator : 1,000+\n",
      "Ag PhD Soybean Diseases : 1,000+\n",
      "Fertilizer Removal By Crop : 50,000+\n",
      "A-J Media Vault : 50+\n",
      "Al-Quran (Free) : 10,000,000+\n",
      "Al Quran (Tafsir & by Word) : 500,000+\n",
      "Al Quran Indonesia : 10,000,000+\n",
      "Al'Quran Bahasa Indonesia : 10,000,000+\n",
      "Al Quran Al karim : 1,000,000+\n",
      "Al-Muhaffiz : 50,000+\n",
      "Al Quran : EAlim - Translations & MP3 Offline : 5,000,000+\n",
      "Al-Quran 30 Juz free copies : 500,000+\n",
      "Koran Read &MP3 30 Juz Offline : 1,000,000+\n",
      "Hafizi Quran 15 lines per page : 1,000,000+\n",
      "Quran for Android : 10,000,000+\n",
      "Surah Al-Waqiah : 100,000+\n",
      "Hisnul Al Muslim - Hisn Invocations & Adhkaar : 100,000+\n",
      "Satellite AR : 1,000,000+\n",
      "Audiobooks from Audible : 100,000,000+\n",
      "Kinot & Eichah for Tisha B'Av : 10,000+\n",
      "AW Tozer Devotionals - Daily : 5,000+\n",
      "Tozer Devotional -Series 1 : 1,000+\n",
      "The Pursuit of God : 1,000+\n",
      "AY Sing : 5,000+\n",
      "Ay Hasnain k Nana Milad Naat : 10,000+\n",
      "Ay Mohabbat Teri Khatir Novel : 10,000+\n",
      "Arizona Statutes, ARS (AZ Law) : 1,000+\n",
      "Oxford A-Z of English Usage : 1,000,000+\n",
      "BD Fishpedia : 1,000+\n",
      "BD All Sim Offer : 10,000+\n",
      "Youboox - Livres, BD et magazines : 500,000+\n",
      "B&H Kids AR : 10,000+\n",
      "Dictionary.com: Find Definitions for English Words : 10,000,000+\n",
      "English Dictionary - Offline : 10,000,000+\n",
      "Bible KJV : 5,000,000+\n",
      "Borneo Bible, BM Bible : 10,000+\n",
      "MOD Black for BM : 100+\n",
      "BM Box : 1,000+\n",
      "Anime Mod for BM : 100+\n",
      "NOOK: Read eBooks & Magazines : 10,000,000+\n",
      "NOOK Audiobooks : 500,000+\n",
      "NOOK App for NOOK Devices : 500,000+\n",
      "Browsery by Barnes & Noble : 5,000+\n",
      "bp e-store : 1,000+\n",
      "Brilliant Quotes: Life, Love, Family & Motivation : 1,000,000+\n",
      "BR Ambedkar Biography & Quotes : 10,000+\n",
      "BU Alsace : 100+\n",
      "Catholic La Bu Zo Kam : 500+\n",
      "Khrifa Hla Bu (Solfa) : 10+\n",
      "Kristian Hla Bu : 10,000+\n",
      "SA HLA BU : 1,000+\n",
      "Learn SAP BW : 500+\n",
      "Learn SAP BW on HANA : 500+\n",
      "CA Laws 2018 (California Laws and Codes) : 5,000+\n",
      "Bootable Methods(USB-CD-DVD) : 10,000+\n",
      "cloudLibrary : 100,000+\n",
      "SDA Collegiate Quarterly : 500+\n",
      "Sabbath School : 100,000+\n",
      "Cypress College Library : 100+\n",
      "Stats Royale for Clash Royale : 1,000,000+\n",
      "GATE 21 years CS Papers(2011-2018 Solved) : 50+\n",
      "Learn CT Scan Of Head : 5,000+\n",
      "Easy Cv maker 2018 : 10,000+\n",
      "How to Write CV : 100,000+\n",
      "CW Nuclear : 1,000+\n",
      "CY Spray nozzle : 10+\n",
      "BibleRead En Cy Zh Yue : 5+\n",
      "CZ-Help : 5+\n",
      "Guide for DB Xenoverse : 10,000+\n",
      "Guide for DB Xenoverse 2 : 10,000+\n",
      "Guide for IMS DB : 10+\n",
      "DC HSEMA : 5,000+\n",
      "DC Public Library : 1,000+\n",
      "Painting Lulu DC Super Friends : 1,000+\n",
      "Dictionary : 10,000,000+\n",
      "Fix Error Google Playstore : 1,000+\n",
      "D. H. Lawrence Poems FREE : 1,000+\n",
      "Bilingual Dictionary Audio App : 5,000+\n",
      "DM Screen : 10,000+\n",
      "wikiHow: how to do anything : 1,000,000+\n",
      "Dr. Doug's Tips : 1,000+\n",
      "Bible du Semeur-BDS (French) : 50,000+\n",
      "La citadelle du musulman : 50,000+\n",
      "DV 2019 Entry Guide : 10,000+\n",
      "DV 2019 - EDV Photo & Form : 50,000+\n",
      "DV 2018 Winners Guide : 1,000+\n",
      "EB Annual Meetings : 1,000+\n",
      "EC - AP & Telangana : 5,000+\n",
      "TN Patta Citta & EC : 10,000+\n",
      "AP Stamps and Registration : 10,000+\n",
      "CompactiMa EC pH Calibration : 100+\n",
      "EGW Writings 2 : 100,000+\n",
      "EGW Writings : 1,000,000+\n",
      "Bible with EGW Comments : 100,000+\n",
      "My Little Pony AR Guide : 1,000,000+\n",
      "SDA Sabbath School Quarterly : 500,000+\n",
      "Duaa Ek Ibaadat : 5,000+\n",
      "Spanish English Translator : 10,000,000+\n",
      "Dictionary - Merriam-Webster : 10,000,000+\n",
      "JW Library : 10,000,000+\n",
      "Oxford Dictionary of English : Free : 10,000,000+\n",
      "English Hindi Dictionary : 10,000,000+\n",
      "English to Hindi Dictionary : 5,000,000+\n",
      "EP Research Service : 1,000+\n",
      "Hymnes et Louanges : 100,000+\n",
      "EU Charter : 1,000+\n",
      "EU Data Protection : 1,000+\n",
      "EU IP Codes : 100+\n",
      "EW PDF : 5+\n",
      "BakaReader EX : 100,000+\n",
      "EZ Quran : 50,000+\n",
      "La Fe de Jesus : 1,000+\n",
      "Le Fe de Jesus : 500+\n",
      "Florida - Pocket Brainbook : 1,000+\n",
      "Florida Statutes (FL Code) : 1,000+\n",
      "English To Shona Dictionary : 10,000+\n",
      "Greek Bible FP (Audio) : 1,000+\n",
      "Golden Dictionary (FR-AR) : 500,000+\n",
      "Fanfic-FR : 5,000+\n",
      "Bulgarian French Dictionary Fr : 10,000+\n",
      "Chemin (fr) : 1,000+\n",
      "The SCP Foundation DB fr nn5n : 1,000+\n"
     ]
    }
   ],
   "source": [
    "for app in google_clean_en_free:\n",
    "    if app[1]=='BOOKS_AND_REFERENCE':\n",
    "        print(app[0],':',app[5])\n",
    "    "
   ]
  },
  {
   "cell_type": "markdown",
   "metadata": {},
   "source": [
    "The book and reference genre includes a variety of apps: software for processing and reading ebooks, various collections of libraries, dictionaries, tutorials on programming or languages, etc. It seems there's still a small number of extremely popular apps that skew the average:"
   ]
  },
  {
   "cell_type": "code",
   "execution_count": 44,
   "metadata": {},
   "outputs": [
    {
     "name": "stdout",
     "output_type": "stream",
     "text": [
      "Google Play Books : 1,000,000,000+\n",
      "Bible : 100,000,000+\n",
      "Amazon Kindle : 100,000,000+\n",
      "Audiobooks from Audible : 100,000,000+\n"
     ]
    }
   ],
   "source": [
    "for app in google_clean_en_free:\n",
    "    if app[1] == 'BOOKS_AND_REFERENCE' and (app[5] == '1,000,000,000+'\n",
    "                                            or app[5] == '500,000,000+'\n",
    "                                            or app[5] == '100,000,000+'):\n",
    "        print(app[0], ':', app[5])"
   ]
  },
  {
   "cell_type": "markdown",
   "metadata": {},
   "source": [
    "However, it looks like there are only a few very popular apps, so this market still shows potential. Let's try to get some app ideas based on the kind of apps that are somewhere in the middle in terms of popularity (between 1,000,000 and 100,000,000 downloads):"
   ]
  },
  {
   "cell_type": "code",
   "execution_count": 47,
   "metadata": {},
   "outputs": [
    {
     "name": "stdout",
     "output_type": "stream",
     "text": [
      "Wikipedia : 10,000,000+\n",
      "Cool Reader : 10,000,000+\n",
      "FBReader: Favorite Book Reader : 10,000,000+\n",
      "AlReader -any text book reader : 5,000,000+\n",
      "Ebook Reader : 5,000,000+\n",
      "Read books online : 5,000,000+\n",
      "Ancestry : 5,000,000+\n",
      "HTC Help : 10,000,000+\n",
      "Moon+ Reader : 10,000,000+\n",
      "Aldiko Book Reader : 10,000,000+\n",
      "Dictionary - WordWeb : 5,000,000+\n",
      "50000 Free eBooks & Free AudioBooks : 5,000,000+\n",
      "Al-Quran (Free) : 10,000,000+\n",
      "Al Quran Indonesia : 10,000,000+\n",
      "Al'Quran Bahasa Indonesia : 10,000,000+\n",
      "Al Quran : EAlim - Translations & MP3 Offline : 5,000,000+\n",
      "Quran for Android : 10,000,000+\n",
      "Dictionary.com: Find Definitions for English Words : 10,000,000+\n",
      "English Dictionary - Offline : 10,000,000+\n",
      "Bible KJV : 5,000,000+\n",
      "NOOK: Read eBooks & Magazines : 10,000,000+\n",
      "Dictionary : 10,000,000+\n",
      "Spanish English Translator : 10,000,000+\n",
      "Dictionary - Merriam-Webster : 10,000,000+\n",
      "JW Library : 10,000,000+\n",
      "Oxford Dictionary of English : Free : 10,000,000+\n",
      "English Hindi Dictionary : 10,000,000+\n",
      "English to Hindi Dictionary : 5,000,000+\n"
     ]
    }
   ],
   "source": [
    "for app in google_clean_en_free:\n",
    "    if app[1]=='BOOKS_AND_REFERENCE' and (app[5]=='1000000+' \n",
    "                                            or app[5]=='5,000,000+'\n",
    "                                            or app[5] == '10,000,000+'\n",
    "                                            or app[5] == '50,000,000+'):\n",
    "        print(app[0],':',app[5])"
   ]
  },
  {
   "cell_type": "markdown",
   "metadata": {},
   "source": [
    "This niche seems to be dominated by software for processing and reading ebooks, as well as various collections of libraries and dictionaries, so it's probably not a good idea to build similar apps since there'll be some significant competition.\n",
    "\n",
    "We also notice there are quite a few apps built around the book Quran, which suggests that building an app around a popular book can be profitable. It seems that taking a popular book (perhaps a more recent book) and turning it into an app could be profitable for both the Google Play and the App Store markets.\n",
    "\n",
    "However, it looks like the market is already full of libraries, so we need to add some special features besides the raw version of the book. This might include daily quotes from the book, an audio version of the book, quizzes on the book, a forum where people can discuss the book, etc."
   ]
  },
  {
   "cell_type": "markdown",
   "metadata": {},
   "source": [
    "# COLCLUSION\n",
    "\n",
    "In this project, we analyzed data about the App Store and Google Play mobile apps with the goal of recommending an app profile that can be profitable for both markets.\n",
    "\n",
    "We concluded that taking a popular book (perhaps a more recent book) and turning it into an app could be profitable for both the Google Play and the App Store markets. The markets are already full of libraries, so adding some additional features besides the raw version of the book would be a good idea. This might include daily quotes from the book, an audio version of the book, quizzes on the book, a forum where people can discuss the book, etc."
   ]
  },
  {
   "cell_type": "code",
   "execution_count": null,
   "metadata": {},
   "outputs": [],
   "source": []
  }
 ],
 "metadata": {
  "kernelspec": {
   "display_name": "Python 3",
   "language": "python",
   "name": "python3"
  },
  "language_info": {
   "codemirror_mode": {
    "name": "ipython",
    "version": 3
   },
   "file_extension": ".py",
   "mimetype": "text/x-python",
   "name": "python",
   "nbconvert_exporter": "python",
   "pygments_lexer": "ipython3",
   "version": "3.7.3"
  }
 },
 "nbformat": 4,
 "nbformat_minor": 2
}
